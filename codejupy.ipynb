{
 "cells": [
  {
   "cell_type": "code",
   "execution_count": null,
   "id": "a1f6138d",
   "metadata": {},
   "outputs": [],
   "source": [
    "#  This is a simple code to find greater number among two numbers\n",
    "num1 = int(input(\"Enter first number: \"))\n",
    "num2 = int(input(\"Enter second number: \"))\n",
    "# if num1 > num2:\n",
    "#     print(\"Greater number is:\", num1)\n",
    "# else:\n",
    "#     print(\"Greater number is:\", num2)\n",
    "print(\"num1:\", num1) if num1 > num2 else print(\"num2:\", num2)"
   ]
  }
 ],
 "metadata": {
  "kernelspec": {
   "display_name": "Python 3",
   "language": "python",
   "name": "python3"
  },
  "language_info": {
   "codemirror_mode": {
    "name": "ipython",
    "version": 3
   },
   "file_extension": ".py",
   "mimetype": "text/x-python",
   "name": "python",
   "nbconvert_exporter": "python",
   "pygments_lexer": "ipython3",
   "version": "3.13.5"
  }
 },
 "nbformat": 4,
 "nbformat_minor": 5
}
